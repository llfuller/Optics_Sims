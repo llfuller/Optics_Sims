{
 "cells": [
  {
   "cell_type": "code",
   "execution_count": 1,
   "id": "699e5370-1d15-481b-86a0-e9d1f18f2872",
   "metadata": {},
   "outputs": [],
   "source": [
    "import numpy as np\n",
    "import scipy\n",
    "import matplotlib.pyplot as plt\n",
    "from tqdm import tqdm  # Import tqdm"
   ]
  },
  {
   "cell_type": "markdown",
   "id": "fd2ad8b5-eacf-4cd2-bab4-361552a60d82",
   "metadata": {},
   "source": [
    "# FDTD (Finite-Difference Time-Domain)"
   ]
  },
  {
   "cell_type": "markdown",
   "id": "ef6c78ef-5d9f-409f-b903-ebc5a914ef20",
   "metadata": {},
   "source": [
    "Written by Lawson Fuller, 5/5/2024, with accelerated code-writing assistance from GPT-4.\n",
    "\n",
    "<!-- Algorithm based on this resource:\n",
    "https://www.oceanopticsbook.info/view/theory-electromagnetism/level-2/maxwells-equations-matter\n",
    "\n",
    "$$\n",
    "\\begin{align}\n",
    "    \\nabla \\cdot \\mathbf{D} &= \\rho_f & \\text{(Gauss's law for electric field)} \\\\\n",
    "    \\nabla \\cdot \\mathbf{B} &= 0 & \\text{(Gauss's law for magnetic field)} \\nonumber\\\\\n",
    "    \\nabla \\times \\mathbf{E} &= -\\frac{\\partial \\mathbf{B}}{\\partial t} & \\text{(Maxwell-Faraday equation)} \\nonumber\\\\\n",
    "    \\nabla \\times \\mathbf{B} &= \\mu_0\\mathbf{J} + \\mu_0\\varepsilon_0\\frac{\\partial \\mathbf{E}}{\\partial t} & \\text{(Ampère-Maxwell law)} \\nonumber\n",
    "\\end{align}\n",
    "$$ -->"
   ]
  },
  {
   "cell_type": "markdown",
   "id": "440a3dc4-39cf-4720-8ade-abda25be1c92",
   "metadata": {},
   "source": [
    "My simulation approach is based on this resource:\n",
    "https://empossible.net/wp-content/uploads/2019/08/Lecture-5a-Finite-Difference-Time-Domain.pdf\n",
    "\n",
    "I'll simulate in 3-D but assume isotropic material constants such as $\\epsilon$.\n",
    "\n",
    "Note that for more numerical stability, it is better to make E and H similar orders of magnitude by \"normalizing\" units. I don't do this for simplicity.\n",
    "\n",
    "The dynamical equations for the fields are (SI conventions):\n",
    "$$\n",
    "\\begin{align}\n",
    "    \\nabla \\times \\mathbf{E} &= -\\frac{\\partial \\mathbf{B}}{\\partial t}, &\\text{(Faraday's Law of Induction)} \\\\\n",
    "    \\mathbf{B}(t) &= \\mu \\mathbf{H}(t), &\\text{(Definition of Magnetic Flux Density)} \\\\\n",
    "    \\nabla \\times \\mathbf{H} &= \\frac{\\partial \\mathbf{D}}{\\partial t}, &\\text{(Ampère's Law with Maxwell's Addition)} \\\\\n",
    "    \\mathbf{D}(t) &= \\epsilon \\mathbf{E}(t), &\\text{(Definition of Electric Displacement Field)}\n",
    "\\end{align}\n",
    "$$\n",
    "where $\\mu$ and $\\epsilon$ depend on the material.\n",
    "From substituting the constitutive relations D(E) and H(B), we concisely arrive at:\n",
    "$$\n",
    "\\begin{align}\n",
    "    \\nabla \\times \\mathbf{E} &= -\\mu\\frac{\\partial \\mathbf{H}}{\\partial t}, &\\text{(Faraday's Law of Induction)} \\\\\n",
    "    \\nabla \\times \\mathbf{H} &= \\epsilon\\frac{\\partial \\mathbf{E}}{\\partial t}, &\\text{(Ampère's Law with Maxwell's Addition)} \\\\\n",
    "\\end{align}\n",
    "$$\n",
    "\n",
    "A numerical approximation of these dynamical equations as a function of time is:\n",
    "\n",
    "Electric Field Update Equation (component i at grid point (i,j,k))\n",
    "$$\n",
    "\\begin{equation}\n",
    "\\mathbf{E_i}^{(i,j,k)}(t + \\Delta t) = \\mathbf{E_i}^{(i,j,k)}(t) + \\frac{\\Delta t}{\\epsilon^{(i,j,k)}} \\left( (\\nabla \\times \\mathbf{H})_i^{(i,j,k)}(t + \\frac{\\Delta t}{2}) - \\sigma^{(i,j,k)} \\mathbf{E}_i^{(i,j,k)}(t) \\right)\n",
    "\\end{equation}\n",
    "$$\n",
    "Magnetic Field Update Equation\n",
    "$$\n",
    "\\begin{equation}\n",
    "\\mathbf{H_i}^{(i,j,k)}(t + \\frac{\\Delta t}{2}) = \\mathbf{H_i}^{(i,j,k)}(t - \\frac{\\Delta t}{2}) - \\frac{\\Delta t}{\\mu^{(i,j,k)}} \\cdot (\\nabla \\times \\mathbf{E})_i^{(i,j,k)}(t)\n",
    "\\end{equation}\n",
    "$$\n",
    "E and H timesteps are staggered for numerical instability. To approximate H at integer timesteps (same times as E), interpolate between the existing solutions of H at solved half-integer timesteps.\n",
    "\n",
    "We can conveniently use a Yee grid for the curl calculations because the H and E values are staggered (as with the time) in a way that lets the calculations remain stable. See this video resource, which is connected to the prior \"EMPossible\" resource, that my calculations are based on, for more information:\n",
    "https://www.youtube.com/watch?v=sxv_L4rscL0&list=PLLYQF5WvJdJWoU9uEeWJ6-MRzDSziNnGt&index=6\n",
    "\n",
    "Note that in a Yee grid, the 3 components of $\\mathbf{E}^{(i,j,k)}$ or of $\\mathbf{H}^{(i,j,k)}$ are at different locations (x,y,z). For example, $\\mathbf{H}_x^{(i,j,k)}$ is actually at a different location than $\\mathbf{H}_y^{(i,j,k)}$.\n",
    "\n",
    "### Curls of E\n",
    "\n",
    "$$\n",
    "\\begin{align}\n",
    "(\\nabla \\times \\mathbf{E})_x^{(i,j,k)} &= \\frac{\\partial \\mathbf{E}_z^{(i,j,k)}}{\\partial y} - \\frac{\\partial \\mathbf{E}_y^{(i,j,k)}}{\\partial z} \\\\\n",
    "&\\approx \\frac{\\mathbf{E}_z^{(i,j+1,k)} - \\mathbf{E}_z^{(i,j,k)}}{\\Delta y} - \\frac{\\mathbf{E}_y^{(i,j,k+1)}-\\mathbf{E}_y^{(i,j,k)}}{\\Delta z}\n",
    "\\end{align}\n",
    "$$\n",
    "\n",
    "$$\n",
    "\\begin{align}\n",
    "(\\nabla \\times \\mathbf{E})_y^{(i,j,k)} &= \\frac{\\partial \\mathbf{E}_x^{(i,j,k)}}{\\partial z} - \\frac{\\partial \\mathbf{E}_z^{(i,j,k)}}{\\partial x} \\\\\n",
    "&\\approx \\frac{\\mathbf{E}_x^{(i,j,k+1)} - \\mathbf{E}_x^{(i,j,k)}}{\\Delta z} - \\frac{\\mathbf{E}_z^{(i+1,j,k)}-\\mathbf{E}_z^{(i,j,k)}}{\\Delta x}\n",
    "\\end{align}\n",
    "$$\n",
    "\n",
    "$$\n",
    "\\begin{align}\n",
    "(\\nabla \\times \\mathbf{E})_z^{(i,j,k)} &= \\frac{\\partial \\mathbf{E}_y^{(i,j,k)}}{\\partial x} - \\frac{\\partial \\mathbf{E}_x^{(i,j,k)}}{\\partial y} \\\\\n",
    "&\\approx \\frac{\\mathbf{E}_y^{(i+1,j,k)} - \\mathbf{E}_y^{(i,j,k)}}{\\Delta x} - \\frac{\\mathbf{E}_x^{(i,j+1,k)}-\\mathbf{E}_x^{(i,j,k)}}{\\Delta y}\n",
    "\\end{align}\n",
    "$$\n",
    "\n",
    "### Curls of H\n",
    "\n",
    "$$\n",
    "\\begin{align}\n",
    "(\\nabla \\times \\mathbf{H})_x^{(i,j,k)} &= \\frac{\\partial \\mathbf{H}_z^{(i,j,k)}}{\\partial y} - \\frac{\\partial \\mathbf{H}_y^{(i,j,k)}}{\\partial z} \\\\\n",
    "&\\approx \\frac{\\mathbf{H}_z^{(i,j,k)} - \\mathbf{H}_z^{(i,j-1,k)}}{\\Delta y} - \\frac{\\mathbf{H}_y^{(i,j,k)}-\\mathbf{H}_y^{(i,j,k-1)}}{\\Delta z}\n",
    "\\end{align}\n",
    "$$\n",
    "\n",
    "$$\n",
    "\\begin{align}\n",
    "(\\nabla \\times \\mathbf{H})_y^{(i,j,k)} &= \\frac{\\partial \\mathbf{H}_x^{(i,j,k)}}{\\partial z} - \\frac{\\partial \\mathbf{H}_z^{(i,j,k)}}{\\partial x} \\\\\n",
    "&\\approx \\frac{\\mathbf{H}_x^{(i,j,k)} - \\mathbf{H}_x^{(i,j,k-1)}}{\\Delta z} - \\frac{\\mathbf{H}_z^{(i,j,k)}-\\mathbf{H}_z^{(i-1,j,k)}}{\\Delta x}\n",
    "\\end{align}\n",
    "$$\n",
    "\n",
    "$$\n",
    "\\begin{align}\n",
    "(\\nabla \\times \\mathbf{H})_z^{(i,j,k)} &= \\frac{\\partial \\mathbf{H}_y^{(i,j,k)}}{\\partial x} - \\frac{\\partial \\mathbf{H}_x^{(i,j,k)}}{\\partial y} \\\\\n",
    "&\\approx \\frac{\\mathbf{H}_y^{(i,j,k)} - \\mathbf{H}_y^{(i-1,j,k)}}{\\Delta x} - \\frac{\\mathbf{H}_x^{(i,j,k)}-\\mathbf{H}_x^{(i,j-1,k)}}{\\Delta y}\n",
    "\\end{align}\n",
    "$$"
   ]
  },
  {
   "cell_type": "markdown",
   "id": "c383eba8-5459-44a3-b798-72c0191afc99",
   "metadata": {},
   "source": [
    "## Define space arrays"
   ]
  },
  {
   "cell_type": "code",
   "execution_count": 2,
   "id": "03905507-39a5-4b99-a13b-b0f54dd028cf",
   "metadata": {},
   "outputs": [],
   "source": [
    "# Define spaces\n",
    "def cubic_space_xyz(N, length=1.0):\n",
    "    \"\"\"\n",
    "    Generate a cubic space represented by 3D meshgrids, with specific orientation suitable for plotting and analysis. \n",
    "    The function creates three-dimensional arrays for X, Y, and Z coordinates, where X is aligned along the horizontal \n",
    "    axis (columns vary), and Y is aligned along the vertical axis (rows vary). This is typically used for initializing \n",
    "    the spatial grid for numerical simulations where the conventional x-y Cartesian plane orientation is preferred.\n",
    "\n",
    "    Parameters:\n",
    "        N (int): The number of points along each axis, which defines the resolution of the grid. A higher number \n",
    "                 results in a finer grid.\n",
    "        length (float): The total length of each axis in the space, from 0 to 'length'. This allows scaling the grid \n",
    "                        to the size of the physical or simulation domain. Default is 1.0, creating a unit cube grid.\n",
    "\n",
    "    Returns:\n",
    "        tuple of np.ndarray: Three 3D arrays (X, Y, Z) representing the grid coordinates with shape (N, N, N) each. \n",
    "                             These arrays form a structured grid where each array contains the coordinates for one \n",
    "                             dimension across the entire grid.\n",
    "    \"\"\"\n",
    "    points = np.linspace(0, length, N)\n",
    "    X, Y, Z = np.meshgrid(points, points, points, indexing='ij')\n",
    "    return X, Y, Z"
   ]
  },
  {
   "cell_type": "markdown",
   "id": "5a8633ca-8676-4604-b9fe-b1a4c8c1bf32",
   "metadata": {},
   "source": [
    "## Define spatially-varying material constants (time independence and isotropy assumed)"
   ]
  },
  {
   "cell_type": "code",
   "execution_count": 3,
   "id": "e17277ea-21da-4af2-98ce-1fd73937bb0a",
   "metadata": {},
   "outputs": [],
   "source": [
    "def initialize_epsilon(X, Y, Z, base_epsilon, variation_func=None):\n",
    "    \"\"\"\n",
    "    Initialize the spatial distribution of the permittivity tensor across the simulation grid.\n",
    "    Assuming isotropic epsilon, which can vary on (x,y,z)\n",
    "    \n",
    "    Parameters:\n",
    "        X, Y, Z (np.ndarray): 3D arrays representing the grid coordinates in each spatial dimension.\n",
    "        base_epsilon (float): Base value of permittivity for the medium.\n",
    "        variation_func (callable, optional): Function to apply spatial variation to permittivity. \n",
    "                                             Should accept X, Y, Z as arguments and return an array of the same shape.\n",
    "    \n",
    "    Returns:\n",
    "        np.ndarray: 3D array representing the spatial distribution of permittivity.\n",
    "    \"\"\"\n",
    "    epsilon = np.full_like(X, base_epsilon)\n",
    "    if variation_func:\n",
    "        epsilon += variation_func(X, Y, Z)\n",
    "    return epsilon\n",
    "\n",
    "def initialize_mu(X, Y, Z, base_mu, variation_func=None):\n",
    "    \"\"\"\n",
    "    Initialize the spatial distribution of the permeability tensor across the simulation grid.\n",
    "    Assuming isotropic mu, which can vary on (x,y,z)\n",
    "\n",
    "    Parameters:\n",
    "        X, Y, Z (np.ndarray): 3D arrays representing the grid coordinates in each spatial dimension.\n",
    "        base_mu (float): Base value of permeability for the medium.\n",
    "        variation_func (callable, optional): Function to apply spatial variation to permeability. \n",
    "                                             Should accept X, Y, Z as arguments and return an array of the same shape.\n",
    "    \n",
    "    Returns:\n",
    "        np.ndarray: 3D array representing the spatial distribution of permeability.\n",
    "    \"\"\"\n",
    "    mu = np.full_like(X, base_mu)\n",
    "    if variation_func:\n",
    "        mu += variation_func(X, Y, Z)\n",
    "    return mu\n",
    "\n",
    "def initialize_sigma(X, Y, Z, base_sigma, variation_func=None):\n",
    "    \"\"\"\n",
    "    Initialize the spatial distribution of the conductivity tensor across the simulation grid.\n",
    "    Assuming isotropic sigma, which can vary on (x,y,z)\n",
    "\n",
    "    Parameters:\n",
    "        X, Y, Z (np.ndarray): 3D arrays representing the grid coordinates in each spatial dimension.\n",
    "        base_sigma (float): Base value of conductivity for the medium.\n",
    "        variation_func (callable, optional): Function to apply spatial variation to conductivity. \n",
    "                                             Should accept X, Y, Z as arguments and return an array of the same shape.\n",
    "    \n",
    "    Returns:\n",
    "        np.ndarray: 3D array representing the spatial distribution of conductivity.\n",
    "    \"\"\"\n",
    "    sigma = np.full_like(X, base_sigma)\n",
    "    if variation_func:\n",
    "        sigma += variation_func(X, Y, Z)\n",
    "    return sigma\n",
    "\n",
    "def plot_material_properties(X, Y, epsilon, mu, slice_index=0):\n",
    "    \"\"\"\n",
    "    Plot the permittivity and permeability for a given slice index in the Z-direction.\n",
    "\n",
    "    Parameters:\n",
    "        X, Y: 2D arrays of the grid coordinates in the x and y directions.\n",
    "        epsilon, mu: 3D arrays of the material properties.\n",
    "        slice_index: Integer index of the Z slice to be plotted.\n",
    "    \"\"\"\n",
    "    fig, (ax1, ax2) = plt.subplots(1, 2, figsize=(12, 6))\n",
    "    \n",
    "    # Plot permittivity\n",
    "    c1 = ax1.contourf(X[:, :, slice_index], Y[:, :, slice_index], epsilon[:, :, slice_index], levels=50, cmap='viridis')\n",
    "    fig.colorbar(c1, ax=ax1)\n",
    "    ax1.set_title('Permittivity (ε) at Slice Z-index= {}'.format(slice_index))\n",
    "    ax1.set_xlabel('X')\n",
    "    ax1.set_ylabel('Y')\n",
    "\n",
    "    # Plot permeability\n",
    "    c2 = ax2.contourf(X[:, :, slice_index], Y[:, :, slice_index], mu[:, :, slice_index], levels=50, cmap='magma')\n",
    "    fig.colorbar(c2, ax=ax2)\n",
    "    ax2.set_title('Permeability (μ) at Slice Z-index= {}'.format(slice_index))\n",
    "    ax2.set_xlabel('X')\n",
    "    ax2.set_ylabel('Y')\n",
    "\n",
    "    plt.tight_layout()\n",
    "    plt.show()"
   ]
  },
  {
   "cell_type": "markdown",
   "id": "e24b4be3-fb4d-4b3d-a64f-fcf997d8fb99",
   "metadata": {},
   "source": [
    "## Define field arrays"
   ]
  },
  {
   "cell_type": "code",
   "execution_count": 13,
   "id": "e49fc68e-8adb-450b-ba68-143b1b82d746",
   "metadata": {},
   "outputs": [],
   "source": [
    "def initialize_E_field(X, Y, Z):\n",
    "    \"\"\"\n",
    "    Initialize the electric field components for an FDTD simulation grid at time 0.\n",
    "    This example initializes the field with a simple Gaussian distribution for Ex,\n",
    "    centered in the domain with zero initial conditions for Ey and Ez.\n",
    "\n",
    "    Parameters:\n",
    "        X, Y, Z (np.ndarray): 3D arrays representing the grid coordinates in each spatial dimension.\n",
    "\n",
    "    Returns:\n",
    "        array of np.ndarray: Three 3D arrays (Ex, Ey, Ez) representing the initialized electric field components.\n",
    "    \"\"\"\n",
    "    Ex = np.exp(-((X - 0.5)**2 + (Y - 0.5)**2 + (Z - 0.5)**2) / 0.01)\n",
    "    Ey = np.zeros_like(X)\n",
    "    Ez = np.zeros_like(X)\n",
    "    return np.array([Ex, Ey, Ez])\n",
    "\n",
    "def initialize_H_field(X, Y, Z):\n",
    "    \"\"\"\n",
    "    Initialize the magnetic field components for an FDTD simulation grid at time 0-1/(Delta t).\n",
    "    This example initializes all components (Hx, Hy, Hz) to zero, which is common\n",
    "    for starting conditions in many scenarios.\n",
    "\n",
    "    Parameters:\n",
    "        X, Y, Z (np.ndarray): 3D arrays representing the grid coordinates in each spatial dimension.\n",
    "\n",
    "    Returns:\n",
    "        array of np.ndarray: Three 3D arrays (Hx, Hy, Hz) representing the initialized magnetic field components.\n",
    "    \"\"\"\n",
    "    Hx = np.zeros_like(X)\n",
    "    Hy = np.zeros_like(X)\n",
    "    Hz = np.zeros_like(X)\n",
    "    return np.array([Hx, Hy, Hz])\n",
    "\n",
    "def calculate_D_field(E, epsilon):\n",
    "    # Requires E to calculate\n",
    "    return np.multiply(epsilon[np.newaxis,:], E)\n",
    "\n",
    "def calculate_B_field(H, mu):\n",
    "    # Requires H to calculate\n",
    "    return np.multiply(mu[np.newaxis,:], H)"
   ]
  },
  {
   "cell_type": "markdown",
   "id": "e25add9c-0df2-4c02-a8c4-9c98bca6fa5d",
   "metadata": {},
   "source": [
    "## Field update equations"
   ]
  },
  {
   "cell_type": "markdown",
   "id": "0ff7e847-4e9d-4ee8-9173-12ccffebc014",
   "metadata": {},
   "source": [
    "Electric Field Update Equation (component i at grid point (i,j,k))\n",
    "$$\n",
    "\\begin{equation}\n",
    "\\mathbf{E_i}^{(i,j,k)}(t + \\Delta t) = \\mathbf{E_i}^{(i,j,k)}(t) + \\frac{\\Delta t}{\\epsilon^{(i,j,k)}} \\left( (\\nabla \\times \\mathbf{H})_i^{(i,j,k)}(t + \\frac{\\Delta t}{2}) - \\sigma^{(i,j,k)} \\mathbf{E}_i^{(i,j,k)}(t) \\right)\n",
    "\\end{equation}\n",
    "$$\n",
    "Magnetic Field Update Equation\n",
    "$$\n",
    "\\begin{equation}\n",
    "\\mathbf{H_i}^{(i,j,k)}(t + \\frac{\\Delta t}{2}) = \\mathbf{H_i}^{(i,j,k)}(t - \\frac{\\Delta t}{2}) - \\frac{\\Delta t}{\\mu^{(i,j,k)}} \\cdot (\\nabla \\times \\mathbf{E})_i^{(i,j,k)}(t)\n",
    "\\end{equation}\n",
    "$$\n",
    "\n",
    "where:\n",
    "\n",
    "### Curls of E\n",
    "\n",
    "$$\n",
    "\\begin{align}\n",
    "(\\nabla \\times \\mathbf{E})_x^{(i,j,k)} &= \\frac{\\partial \\mathbf{E}_z^{(i,j,k)}}{\\partial y} - \\frac{\\partial \\mathbf{E}_y^{(i,j,k)}}{\\partial z} \\\\\n",
    "&\\approx \\frac{\\mathbf{E}_z^{(i,j+1,k)} - \\mathbf{E}_z^{(i,j,k)}}{\\Delta y} - \\frac{\\mathbf{E}_y^{(i,j,k+1)}-\\mathbf{E}_y^{(i,j,k)}}{\\Delta z}\n",
    "\\end{align}\n",
    "$$\n",
    "\n",
    "$$\n",
    "\\begin{align}\n",
    "(\\nabla \\times \\mathbf{E})_y^{(i,j,k)} &= \\frac{\\partial \\mathbf{E}_x^{(i,j,k)}}{\\partial z} - \\frac{\\partial \\mathbf{E}_z^{(i,j,k)}}{\\partial x} \\\\\n",
    "&\\approx \\frac{\\mathbf{E}_x^{(i,j,k+1)} - \\mathbf{E}_x^{(i,j,k)}}{\\Delta z} - \\frac{\\mathbf{E}_z^{(i+1,j,k)}-\\mathbf{E}_z^{(i,j,k)}}{\\Delta x}\n",
    "\\end{align}\n",
    "$$\n",
    "\n",
    "$$\n",
    "\\begin{align}\n",
    "(\\nabla \\times \\mathbf{E})_z^{(i,j,k)} &= \\frac{\\partial \\mathbf{E}_y^{(i,j,k)}}{\\partial x} - \\frac{\\partial \\mathbf{E}_x^{(i,j,k)}}{\\partial y} \\\\\n",
    "&\\approx \\frac{\\mathbf{E}_y^{(i+1,j,k)} - \\mathbf{E}_y^{(i,j,k)}}{\\Delta x} - \\frac{\\mathbf{E}_x^{(i,j+1,k)}-\\mathbf{E}_x^{(i,j,k)}}{\\Delta y}\n",
    "\\end{align}\n",
    "$$\n",
    "\n",
    "### Curls of H\n",
    "\n",
    "$$\n",
    "\\begin{align}\n",
    "(\\nabla \\times \\mathbf{H})_x^{(i,j,k)} &= \\frac{\\partial \\mathbf{H}_z^{(i,j,k)}}{\\partial y} - \\frac{\\partial \\mathbf{H}_y^{(i,j,k)}}{\\partial z} \\\\\n",
    "&\\approx \\frac{\\mathbf{H}_z^{(i,j,k)} - \\mathbf{H}_z^{(i,j-1,k)}}{\\Delta y} - \\frac{\\mathbf{H}_y^{(i,j,k)}-\\mathbf{H}_y^{(i,j,k-1)}}{\\Delta z}\n",
    "\\end{align}\n",
    "$$\n",
    "\n",
    "$$\n",
    "\\begin{align}\n",
    "(\\nabla \\times \\mathbf{H})_y^{(i,j,k)} &= \\frac{\\partial \\mathbf{H}_x^{(i,j,k)}}{\\partial z} - \\frac{\\partial \\mathbf{H}_z^{(i,j,k)}}{\\partial x} \\\\\n",
    "&\\approx \\frac{\\mathbf{H}_x^{(i,j,k)} - \\mathbf{H}_x^{(i,j,k-1)}}{\\Delta z} - \\frac{\\mathbf{H}_z^{(i,j,k)}-\\mathbf{H}_z^{(i-1,j,k)}}{\\Delta x}\n",
    "\\end{align}\n",
    "$$\n",
    "\n",
    "$$\n",
    "\\begin{align}\n",
    "(\\nabla \\times \\mathbf{H})_z^{(i,j,k)} &= \\frac{\\partial \\mathbf{H}_y^{(i,j,k)}}{\\partial x} - \\frac{\\partial \\mathbf{H}_x^{(i,j,k)}}{\\partial y} \\\\\n",
    "&\\approx \\frac{\\mathbf{H}_y^{(i,j,k)} - \\mathbf{H}_y^{(i-1,j,k)}}{\\Delta x} - \\frac{\\mathbf{H}_x^{(i,j,k)}-\\mathbf{H}_x^{(i,j-1,k)}}{\\Delta y}\n",
    "\\end{align}\n",
    "$$"
   ]
  },
  {
   "cell_type": "code",
   "execution_count": 14,
   "id": "1e9081ba-2d4c-489c-88ec-640a82bfc558",
   "metadata": {},
   "outputs": [],
   "source": [
    "def curl_E(E, dx, dy, dz):\n",
    "    # Compute the curl of E\n",
    "    Curl_Ex = (np.roll(E[2], shift=-1, axis=1) - E[2]) / dy - (np.roll(E[1], shift=-1, axis=2) - E[1]) / dz\n",
    "    Curl_Ey = (np.roll(E[0], shift=-1, axis=2) - E[0]) / dz - (np.roll(E[2], shift=-1, axis=0) - E[2]) / dx\n",
    "    Curl_Ez = (np.roll(E[1], shift=-1, axis=0) - E[1]) / dx - (np.roll(E[0], shift=-1, axis=1) - E[0]) / dy\n",
    "    return np.array([Curl_Ex, Curl_Ey, Curl_Ez])\n",
    "\n",
    "def curl_H(H, dx, dy, dz):\n",
    "    # Compute the curl of H\n",
    "    Curl_Hx = (H[2] - np.roll(H[2], shift=1, axis=1)) / dy - (H[1] - np.roll(H[1], shift=1, axis=2)) / dz\n",
    "    Curl_Hy = (H[0] - np.roll(H[0], shift=1, axis=2)) / dz - (H[2] - np.roll(H[2], shift=1, axis=0)) / dx\n",
    "    Curl_Hz = (H[1] - np.roll(H[1], shift=1, axis=0)) / dx - (H[0] - np.roll(H[0], shift=1, axis=1)) / dy\n",
    "    return np.array([Curl_Hx, Curl_Hy, Curl_Hz])"
   ]
  },
  {
   "cell_type": "code",
   "execution_count": 15,
   "id": "b9aa5518-ffe8-4313-91a7-b92f206fc390",
   "metadata": {},
   "outputs": [],
   "source": [
    "def update_fields(E,H,epsilon,mu,sigma,dx,dy,dz,delta_t):\n",
    "    # Purpose: Update E and H, and then call calculate_D/B_field to calculate D and B.\n",
    "    # Based on https://empossible.net/wp-content/uploads/2019/08/Lecture-5a-Finite-Difference-Time-Domain.pdf\n",
    "    # Inputs: E and H are both 3-element arrays of 3D arrays (E.shape=(3,3,3,3))\n",
    "    #         epsilon, mu, and sigma are 3D arrays (3,3,3)\n",
    "    # Return: E, H, D, B (all 3-element arrays of 3D arrays (E.shape=(3,3,3,3)))\n",
    "    \n",
    "    # Compute curls\n",
    "    Curl_E = curl_E(E, dx, dy, dz)\n",
    "    Curl_H = curl_H(H, dx, dy, dz)\n",
    "\n",
    "    # Update H fields using vectorized operations\n",
    "    H_new = H - np.divide(delta_t,mu[np.newaxis, :, :, :]) * Curl_E\n",
    "\n",
    "    # Update E fields using vectorized operations\n",
    "    E_new = E + (delta_t / epsilon[np.newaxis, :, :, :]) * (Curl_H - sigma[np.newaxis, :, :, :] * E)\n",
    "\n",
    "    # Calculate D and B fields using updated E and H\n",
    "    # It's faster to do this outside the function, specifically outside the loop which \n",
    "    # calls this function, but I'll leave it here for simplicity.\n",
    "    D = epsilon[np.newaxis, :, :, :] * E_new\n",
    "    B = mu[np.newaxis, :, :, :] * H_new\n",
    "\n",
    "    return E_new, H_new, D, B"
   ]
  },
  {
   "cell_type": "markdown",
   "id": "9b18bdde-bdf4-42db-a55b-65dbe3166fe2",
   "metadata": {},
   "source": [
    "## Define material constant variation"
   ]
  },
  {
   "cell_type": "code",
   "execution_count": 25,
   "id": "1c714030-9183-4079-be14-ca4b7c6cbde7",
   "metadata": {},
   "outputs": [],
   "source": [
    "def permittivity_variation(X, Y, Z):\n",
    "    # Example: Linear gradient in the x-direction\n",
    "    return 0.0 * X\n",
    "\n",
    "def permeability_variation(X, Y, Z):\n",
    "    # Example: Linear gradient in the x-direction\n",
    "    return 0.0 * Y"
   ]
  },
  {
   "cell_type": "markdown",
   "id": "4f5ccd41-3da7-4b8d-9dce-ef08429502d1",
   "metadata": {},
   "source": [
    "## Initialize space, material constants, and fields"
   ]
  },
  {
   "cell_type": "code",
   "execution_count": 26,
   "id": "588fa574-0742-430a-85eb-36b02d7d61a1",
   "metadata": {},
   "outputs": [],
   "source": [
    "# Define the grid\n",
    "N = 50\n",
    "X, Y, Z = cubic_space_xyz(N)\n",
    "\n",
    "# Initialize material property tensors with hypothetical variations\n",
    "epsilon = initialize_epsilon(X, Y, Z, base_epsilon=8.85e-12, variation_func=permittivity_variation)\n",
    "mu = initialize_mu(X, Y, Z, base_mu=1.2566370614e-6, variation_func=permeability_variation)\n",
    "sigma = initialize_sigma(X, Y, Z, base_sigma=0.01)  # Assuming conductivity is used elsewhere"
   ]
  },
  {
   "cell_type": "markdown",
   "id": "b5a5ae0f-12ec-47f1-bbfa-15e797e363aa",
   "metadata": {},
   "source": [
    "## Main Loop"
   ]
  },
  {
   "cell_type": "code",
   "execution_count": 39,
   "id": "6f9284ef-f5d2-4935-9849-646380af31da",
   "metadata": {},
   "outputs": [
    {
     "name": "stderr",
     "output_type": "stream",
     "text": [
      "Evolving fields: 100%|██████████| 999/999 [00:14<00:00, 67.29it/s]\n"
     ]
    }
   ],
   "source": [
    "t_initial = 0\n",
    "t_final = 1.0/np.power(10,12)\n",
    "t_steps = 1000\n",
    "x_lower, x_upper = (0.0, 1.0)\n",
    "y_lower, y_upper = (0.0, 1.0)\n",
    "z_lower, z_upper = (0.0, 1.0)\n",
    "dx = float(x_upper-x_lower)/N\n",
    "dy = float(y_upper-y_lower)/N\n",
    "dz = float(z_upper-z_lower)/N\n",
    "\n",
    "delta_t = float(t_final-t_initial)/t_steps\n",
    "E_hist = np.zeros((t_steps,) + (3,N,N,N))\n",
    "H_hist = np.zeros((t_steps,) + (3,N,N,N))\n",
    "D_hist = np.zeros((t_steps,) + (3,N,N,N))\n",
    "B_hist = np.zeros((t_steps,) + (3,N,N,N))\n",
    "\n",
    "# Set initial conditions:\n",
    "# Initialize E and H fields\n",
    "E_hist[0] = initialize_E_field(X, Y, Z)\n",
    "H_hist[0] = initialize_H_field(X, Y, Z)\n",
    "\n",
    "# Calculate D and B fields\n",
    "D_hist[0] = calculate_D_field(E_hist[0], epsilon)\n",
    "B_hist[0] = calculate_B_field(H_hist[0], mu)\n",
    "\n",
    "for t_n in tqdm(range(1,t_steps), desc=\"Evolving fields\"):\n",
    "    E_hist[t_n],H_hist[t_n],D_hist[t_n],B_hist[t_n]=update_fields(E_hist[t_n-1], H_hist[t_n-1], epsilon, mu, sigma, dx, dy, dz, delta_t)"
   ]
  },
  {
   "cell_type": "markdown",
   "id": "dcbea9b5-8fc9-420d-9217-92c039de0908",
   "metadata": {},
   "source": [
    "## Make a video of the solution"
   ]
  },
  {
   "cell_type": "code",
   "execution_count": 40,
   "id": "4812df8a-9c5e-4797-bb26-d739495c8fa6",
   "metadata": {},
   "outputs": [
    {
     "data": {
      "image/png": "[encoded data removed]",
      "text/plain": [
       "<Figure size 640x480 with 1 Axes>"
      ]
     },
     "metadata": {},
     "output_type": "display_data"
    }
   ],
   "source": [
    "import numpy as np\n",
    "import matplotlib.pyplot as plt\n",
    "from matplotlib.animation import FuncAnimation\n",
    "\n",
    "# Select the component index for the electric field, e.g., 0 for Ex, 1 for Ey, etc.\n",
    "component_index = 0\n",
    "\n",
    "# Function to update the plot for each frame\n",
    "def update_plot(frame_number, E_hist, plot):\n",
    "    plot[0].remove()  # Remove the previous image\n",
    "    plot[0] = ax.imshow(E_hist[frame_number, component_index, :, :, 0], cmap='viridis', origin='lower')\n",
    "    return plot\n",
    "\n",
    "# Set up the figure and axis\n",
    "fig, ax = plt.subplots()\n",
    "plot = [ax.imshow(E_hist[0, component_index, :, :, 0], cmap='viridis', origin='lower')]  # Initial plot\n",
    "ax.set_title('Electric Field (Ex) Evolution')\n",
    "ax.set_xlabel('X Location')\n",
    "ax.set_ylabel('Y Location')\n",
    "\n",
    "# Creating the animation\n",
    "ani = FuncAnimation(fig, update_plot, frames=t_steps, fargs=(E_hist, plot), blit=True)\n",
    "\n",
    "# Save the animation\n",
    "ani.save('electric_field_evolution.mp4', writer='ffmpeg', fps=5)\n",
    "\n",
    "plt.show()\n"
   ]
  },
  {
   "cell_type": "markdown",
   "id": "01abc001-6ca6-4a9b-9b3e-f697f51906db",
   "metadata": {},
   "source": [
    "## Plot heatmap of X and Y values to ensure accuracy"
   ]
  },
  {
   "cell_type": "code",
   "execution_count": 41,
   "id": "aaf0be8b-4de2-4457-820c-20a0719504bf",
   "metadata": {},
   "outputs": [
    {
     "data": {
      "image/png": "[encoded data removed]",
      "text/plain": [
       "<Figure size 1800x600 with 6 Axes>"
      ]
     },
     "metadata": {},
     "output_type": "display_data"
    }
   ],
   "source": [
    "# Plot heatmap of X and Y values to ensure accuracy\n",
    "plt.figure(figsize=(18, 6))\n",
    "\n",
    "plt.subplot(1, 3, 1)\n",
    "plt.title('Checking X Values')\n",
    "plt.imshow(X[:, :, 0].T, extent=(0, 1, 0, 1), origin='lower', aspect='auto')\n",
    "plt.colorbar()\n",
    "plt.xlabel('x-axis')\n",
    "plt.ylabel('y-axis')\n",
    "\n",
    "# Plot heatmap of Y values without transposing\n",
    "plt.subplot(1, 3, 2)\n",
    "plt.title('Checking Y Values')\n",
    "plt.imshow(Y[:, :, 0].T, extent=(0, 1, 0, 1), origin='lower', aspect='auto')\n",
    "plt.colorbar()\n",
    "plt.xlabel('x-axis')\n",
    "plt.ylabel('y-axis')\n",
    "\n",
    "# Plot heatmap of Y values without transposing\n",
    "plt.subplot(1, 3, 3)\n",
    "plt.title('Checking Z Values')\n",
    "plt.imshow(Z[0, :, :].T, extent=(0, 1, 0, 1), origin='lower', aspect='auto')\n",
    "plt.colorbar()\n",
    "plt.xlabel('y-axis')\n",
    "plt.ylabel('z-axis')\n",
    "\n",
    "plt.tight_layout()\n",
    "plt.show()"
   ]
  },
  {
   "cell_type": "markdown",
   "id": "1547cc40-c7b0-4660-8885-5e0dd7e4d561",
   "metadata": {},
   "source": [
    "# Plot material properties at Z=0 slice"
   ]
  },
  {
   "cell_type": "code",
   "execution_count": 42,
   "id": "400ebaa8-4535-43ae-8307-89f124f59baf",
   "metadata": {},
   "outputs": [
    {
     "data": {
      "image/png": "[encoded data removed]",
      "text/plain": [
       "<Figure size 1200x600 with 4 Axes>"
      ]
     },
     "metadata": {},
     "output_type": "display_data"
    }
   ],
   "source": [
    "plot_material_properties(X, Y, epsilon, mu, slice_index=0)"
   ]
  },
  {
   "cell_type": "markdown",
   "id": "6b53e66d-a758-4caf-9d6d-4f347ffd26ad",
   "metadata": {},
   "source": [
    "## Check Courant-Friedrichs-Lewy (CFL) condition:"
   ]
  },
  {
   "cell_type": "code",
   "execution_count": 43,
   "id": "99fa6c84-5436-4272-99d4-13ab0d6b1ecc",
   "metadata": {},
   "outputs": [
    {
     "name": "stdout",
     "output_type": "stream",
     "text": [
      "True\n"
     ]
    }
   ],
   "source": [
    "c=3*10**8\n",
    "print(delta_t <= 1.0/(c*np.sqrt(1.0/dx**2 + 1.0/dy**2 + 1.0/dz**2)))"
   ]
  },
  {
   "cell_type": "code",
   "execution_count": 44,
   "id": "c71b62c4-56ce-4d21-8c09-930bafabc573",
   "metadata": {},
   "outputs": [
    {
     "name": "stdout",
     "output_type": "stream",
     "text": [
      "delta_t:-1.374797277892591e-12\n",
      "3.8490017945975055e-11\n"
     ]
    }
   ],
   "source": [
    "print(f\"delta_t:{delta_t}\")\n",
    "print(1.0/(c*np.sqrt(1.0/dx**2 + 1.0/dy**2 + 1.0/dz**2)))"
   ]
  },
  {
   "cell_type": "code",
   "execution_count": null,
   "id": "542581be-1d21-4013-a4e6-8cd8ec4d5a97",
   "metadata": {},
   "outputs": [],
   "source": []
  },
  {
   "cell_type": "code",
   "execution_count": null,
   "id": "c2562cfc-079e-4ec3-8100-62af2b792e71",
   "metadata": {},
   "outputs": [],
   "source": []
  }
 ],
 "metadata": {
  "kernelspec": {
   "display_name": "Python 3 (ipykernel)",
   "language": "python",
   "name": "python3"
  },
  "language_info": {
   "codemirror_mode": {
    "name": "ipython",
    "version": 3
   },
   "file_extension": ".py",
   "mimetype": "text/x-python",
   "name": "python",
   "nbconvert_exporter": "python",
   "pygments_lexer": "ipython3",
   "version": "3.8.19"
  }
 },
 "nbformat": 4,
 "nbformat_minor": 5
}
