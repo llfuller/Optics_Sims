{
 "cells": [
  {
   "cell_type": "code",
   "execution_count": 1,
   "id": "187468f4",
   "metadata": {},
   "outputs": [
    {
     "name": "stdout",
     "output_type": "stream",
     "text": [
      "Using MPI version 4.1, 1 processes\n"
     ]
    }
   ],
   "source": [
    "import numpy as np\n",
    "import scipy\n",
    "import matplotlib.pyplot as plt\n",
    "from matplotlib.animation import FuncAnimation\n",
    "from matplotlib.ticker import FuncFormatter\n",
    "import meep as mp"
   ]
  },
  {
   "cell_type": "markdown",
   "id": "9a72038b-f31a-4ff4-8ab9-e65829a7f679",
   "metadata": {},
   "source": [
    "The following code was written by Lawson Fuller, with some usage of GPT-4.\n",
    "\n",
    "## Units in MEEP:"
   ]
  },
  {
   "cell_type": "markdown",
   "id": "a4385917-fd6d-4d42-86a2-949f454a3105",
   "metadata": {},
   "source": [
    "https://meep.readthedocs.io/en/latest/Introduction/#units-in-meep\n",
    "\n",
    "$c = 1$\n",
    "\n",
    "$a$ = distance = units $\\mu m$\n",
    "\n",
    "$f = \\frac{c=1}{\\lambda}$ (units a) = $\\frac{1}{1.55}$ for 1.55 $\\mu m$ light"
   ]
  },
  {
   "cell_type": "markdown",
   "id": "c6182601-793c-47b1-a651-b3c5b74c139a",
   "metadata": {},
   "source": [
    "## Define Materials:\n",
    "Define the optical properties of titanium dioxide (TiO$_2$) and glass. MEEP uses relative permittivity (epsilon) to define material properties:"
   ]
  },
  {
   "cell_type": "code",
   "execution_count": 2,
   "id": "1615ddb0-1a4a-4978-b5a8-b59749141da5",
   "metadata": {},
   "outputs": [],
   "source": [
    "TiO2 = mp.Medium(index=2.7)  # Example index, adjust based on actual data\n",
    "glass = mp.Medium(index=1.5)"
   ]
  },
  {
   "cell_type": "markdown",
   "id": "cc68452f-9054-4e67-8f3c-fc68f63a10dd",
   "metadata": {},
   "source": [
    "## Geometry Setup:\n",
    "Define the geometry of your unit cell. Assume dimensions as needed or based on the project details:"
   ]
  },
  {
   "cell_type": "code",
   "execution_count": 3,
   "id": "3cd2309b-6e8b-4743-823f-49f4b6efb32d",
   "metadata": {},
   "outputs": [],
   "source": [
    "#  Choose dimensions that are multiple times larger than the wavelength to simulate periodicity correctly. For instance, \n",
    "# if simulating a single unit cell, you might choose sizes around a few micrometers, say 2μm.\n",
    "x_size = 2.0 # micrometers\n",
    "y_size = 6.0 # micrometers\n",
    "z_size = 10.0 # micrometers\n",
    "\n",
    "# size based on this paper:\n",
    "# https://www.nature.com/articles/s41598-019-43588-7#:~:text=Optical%20metamaterials%20based%20on%20the,new%20generation%20of%20solar%20cells.\n",
    "\n",
    "# Material thicknesses\n",
    "tio2_ridge_height = 3.0 # micrometers\n",
    "tio2_ridge_thickness = 0.1  # micrometers (100 nm)\n",
    "tio2_base_thickness = 1.0  # micrometers (100 nm)\n",
    "glass_base_thickness = 1.0  # micrometers (1000 nm)\n",
    "\n",
    "# horizontal widths:\n",
    "tio2_ridge_y_width = 1.0  # micrometers (1000 nm)\n",
    "\n",
    "material_z_offset = -2.0\n",
    "\n",
    "cell_size = mp.Vector3(0, y_size, z_size)  # Define the cell size\n",
    "geometry = [mp.Block(material=TiO2,\n",
    "                     center=mp.Vector3(0, 0, glass_base_thickness + tio2_base_thickness + tio2_ridge_height/2 + material_z_offset),\n",
    "                     size=mp.Vector3(mp.inf, tio2_ridge_y_width, tio2_ridge_height)),\n",
    "            mp.Block(material=TiO2,\n",
    "                     center=mp.Vector3(0, 0, glass_base_thickness + tio2_base_thickness/2 + material_z_offset),\n",
    "                     size=mp.Vector3(mp.inf, mp.inf, tio2_base_thickness)),\n",
    "            mp.Block(material=glass,\n",
    "                     center=mp.Vector3(0, 0, glass_base_thickness/2 + material_z_offset),\n",
    "                     size=mp.Vector3(mp.inf, mp.inf, glass_base_thickness))]"
   ]
  },
  {
   "cell_type": "code",
   "execution_count": 4,
   "id": "0c0c1556-ed5d-4c45-b114-305c88086161",
   "metadata": {},
   "outputs": [],
   "source": [
    "# Define the formatter function\n",
    "def format_func(value, tick_number):\n",
    "    labels = {0: 'Vacuum', 1: 'Glass', 2: 'TiO2'}\n",
    "    return labels.get(value, '')\n",
    "\n",
    "def material_map(geometry, y_range, z_range, resolution):\n",
    "    # Initialize the material map with 0 (vacuum)\n",
    "    y_points = np.linspace(y_range[0], y_range[1], resolution)\n",
    "    z_points = np.linspace(z_range[0], z_range[1], resolution)\n",
    "    map_matrix = np.zeros((len(z_points), len(y_points)))\n",
    "    \n",
    "    # Iterate over each point in the y-z plane\n",
    "    for i, z in enumerate(z_points):\n",
    "        for j, y in enumerate(y_points):\n",
    "            # Check each block in the geometry\n",
    "            for block in geometry:\n",
    "                # Get the material type\n",
    "                if block.material == TiO2:\n",
    "                    material_type = 2\n",
    "                elif block.material == glass:\n",
    "                    material_type = 1\n",
    "                else:\n",
    "                    continue\n",
    "                \n",
    "                # Determine the bounds of the block in the y and z dimensions\n",
    "                y_min = block.center.y - block.size.y/2\n",
    "                y_max = block.center.y + block.size.y/2\n",
    "                z_min = block.center.z - block.size.z/2\n",
    "                z_max = block.center.z + block.size.z/2\n",
    "                \n",
    "                # Check if the current point (y, z) is within this block\n",
    "                if y_min <= y <= y_max and z_min <= z <= z_max:\n",
    "                    map_matrix[i, j] = material_type\n",
    "                    break  # Stop checking other blocks if a match is found\n",
    "    \n",
    "    return map_matrix\n",
    "\n",
    "# Define the range for y and z to be visualized and the resolution of the grid\n",
    "pml_thickness = 1.0 # thickness of perfectly matched layer to absorb outgoing waves\n",
    "y_range = (-y_size/2, y_size/2)  # Adjust as needed\n",
    "z_range = (-z_size/2, z_size/2+pml_thickness)  # Adjust as needed\n",
    "resolution = 100\n",
    "\n",
    "# Generate the material map\n",
    "map_matrix = material_map(geometry, y_range, z_range, resolution)"
   ]
  },
  {
   "cell_type": "markdown",
   "id": "0ab422b1-793f-442c-b0bc-92d9d2347c85",
   "metadata": {},
   "source": [
    "## Visualize Materials"
   ]
  },
  {
   "cell_type": "code",
   "execution_count": 5,
   "id": "7355ea21-251d-4f47-9183-85f0324df3e5",
   "metadata": {},
   "outputs": [
    {
     "data": {
      "image/png": "[encoded data removed]",
      "text/plain": [
       "<Figure size 800x600 with 1 Axes>"
      ]
     },
     "metadata": {},
     "output_type": "display_data"
    }
   ],
   "source": [
    "# Optionally, you can visualize this map using matplotlib\n",
    "import matplotlib.pyplot as plt\n",
    "import numpy as np\n",
    "from matplotlib.patches import Patch\n",
    "from matplotlib.colors import ListedColormap\n",
    "\n",
    "# Create a figure\n",
    "plt.figure(figsize=(8, 6))\n",
    "\n",
    "# Use a discrete colormap\n",
    "cmap = ListedColormap(['white', 'blue', 'grey'])\n",
    "norm = plt.Normalize(vmin=0, vmax=2)\n",
    "\n",
    "# Display the image\n",
    "im = plt.imshow(map_matrix, cmap=cmap, norm=norm, extent=[y_range[0], y_range[1], z_range[0], z_range[1]], origin='lower', aspect='auto')\n",
    "\n",
    "# Create a legend\n",
    "legend_labels = {0: 'Vacuum', 1: 'Glass', 2: 'TiO2'}\n",
    "patches = [Patch(color=cmap(norm(i)), label=legend_labels[i]) for i in legend_labels]\n",
    "plt.legend(handles=patches, title='Material')\n",
    "\n",
    "# Set labels and title\n",
    "plt.xlabel('y (micrometers)')\n",
    "plt.ylabel('z (micrometers)')\n",
    "plt.title('Unit Cell Material Map in Y-Z Plane (Unbounded material in X and Y)')\n",
    "\n",
    "# Show the plot\n",
    "plt.show()"
   ]
  },
  {
   "cell_type": "markdown",
   "id": "eb224985-1854-4b41-9429-7fe968164d80",
   "metadata": {},
   "source": [
    "## Source Definition:\r\n",
    "Define an appropriate source, such as a plane wave"
   ]
  },
  {
   "cell_type": "code",
   "execution_count": 6,
   "id": "b346cdde-abbd-400e-86bf-9753b5aafb1c",
   "metadata": {},
   "outputs": [
    {
     "ename": "NameError",
     "evalue": "name 'make3D' is not defined",
     "output_type": "error",
     "traceback": [
      "\u001b[0;31m---------------------------------------------------------------------------\u001b[0m",
      "\u001b[0;31mNameError\u001b[0m                                 Traceback (most recent call last)",
      "Cell \u001b[0;32mIn[6], line 7\u001b[0m\n\u001b[1;32m      1\u001b[0m freq \u001b[38;5;241m=\u001b[39m \u001b[38;5;241m1\u001b[39m\u001b[38;5;241m/\u001b[39m\u001b[38;5;241m0.55\u001b[39m \u001b[38;5;66;03m# (if light lambda= 550 nm, range 380-700nm)\u001b[39;00m\n\u001b[1;32m      2\u001b[0m amplitude \u001b[38;5;241m=\u001b[39m \u001b[38;5;241m1\u001b[39m\n\u001b[1;32m      3\u001b[0m sources \u001b[38;5;241m=\u001b[39m [mp\u001b[38;5;241m.\u001b[39mSource(mp\u001b[38;5;241m.\u001b[39mContinuousSource(frequency\u001b[38;5;241m=\u001b[39mfreq),\n\u001b[1;32m      4\u001b[0m                      amplitude \u001b[38;5;241m=\u001b[39m amplitude,\n\u001b[1;32m      5\u001b[0m                      component\u001b[38;5;241m=\u001b[39mmp\u001b[38;5;241m.\u001b[39mEx,\n\u001b[1;32m      6\u001b[0m                      center\u001b[38;5;241m=\u001b[39mmp\u001b[38;5;241m.\u001b[39mVector3(\u001b[38;5;241m0\u001b[39m,\u001b[38;5;241m0\u001b[39m,z_size\u001b[38;5;241m/\u001b[39m\u001b[38;5;241m2\u001b[39m\u001b[38;5;241m-\u001b[39mpml_thickness\u001b[38;5;241m-\u001b[39m\u001b[38;5;241m0.1\u001b[39m),\n\u001b[0;32m----> 7\u001b[0m                      size\u001b[38;5;241m=\u001b[39mmp\u001b[38;5;241m.\u001b[39mVector3(\u001b[43mmake3D\u001b[49m\u001b[38;5;241m*\u001b[39mx_size, y_size, \u001b[38;5;241m0\u001b[39m))]\n",
      "\u001b[0;31mNameError\u001b[0m: name 'make3D' is not defined"
     ]
    }
   ],
   "source": [
    "freq = 1/0.55 # (if light lambda= 550 nm, range 380-700nm)\n",
    "amplitude = 1\n",
    "sources = [mp.Source(mp.ContinuousSource(frequency=freq),\n",
    "                     amplitude = amplitude,\n",
    "                     component=mp.Ex,\n",
    "                     center=mp.Vector3(0,0,z_size/2-pml_thickness-0.1),\n",
    "                     size=mp.Vector3(make3D*x_size, y_size, 0))]"
   ]
  },
  {
   "cell_type": "markdown",
   "id": "b5194393-0fe1-43bc-9ca3-0d59cb23791d",
   "metadata": {},
   "source": [
    "## Boundary Conditions:\r\n",
    "Typically, you'll use periodic boundary conditions for a unit cell:"
   ]
  },
  {
   "cell_type": "code",
   "execution_count": null,
   "id": "1f5cd73e-8c66-4c17-b93d-4a7c65e4a494",
   "metadata": {},
   "outputs": [],
   "source": [
    "pml_layers = [mp.PML(pml_thickness)]\n",
    "# boundary_layers = [mp.PeriodicBoundary(mp.Vector3(1,0,0), phase_shift=0),\n",
    "#                    mp.PeriodicBoundary(mp.Vector3(0,1,0), phase_shift=0)]"
   ]
  },
  {
   "cell_type": "markdown",
   "id": "538f3ccf-4e42-44e4-aca9-bef60ce14594",
   "metadata": {},
   "source": [
    "## Simulation Domain:\n",
    "Set up the simulation domain:"
   ]
  },
  {
   "cell_type": "code",
   "execution_count": null,
   "id": "446434f5-ab2c-432e-82e6-b638f9d11d8d",
   "metadata": {},
   "outputs": [],
   "source": [
    "resolution = 40\n",
    "sim = mp.Simulation(cell_size=cell_size,\n",
    "                    geometry=geometry,\n",
    "                    resolution = resolution,\n",
    "                    boundary_layers = pml_layers,\n",
    "                    sources=sources)"
   ]
  },
  {
   "cell_type": "markdown",
   "id": "5d849931-d31c-4acb-bc4d-3093d91e2bee",
   "metadata": {},
   "source": [
    "## Prepare a list to store the time series data"
   ]
  },
  {
   "cell_type": "code",
   "execution_count": null,
   "id": "3270e6a0-1c85-4914-83e5-2dcc3a804599",
   "metadata": {},
   "outputs": [],
   "source": [
    "# Define a point where you want to record the Ez component over time\n",
    "monitor_point = mp.Vector3(0, 0, z_size/2)\n",
    "\n",
    "# Define a function to record the Ez component at each time step\n",
    "ex_time_series = []\n",
    "ey_time_series = []\n",
    "ez_time_series = []\n",
    "\n",
    "# Define a function to record the Ez component at each time step across the YZ plane\n",
    "def record_ez(sim):\n",
    "    # Define the volume for the YZ plane (at x=0)\n",
    "    yz_plane = mp.Volume(center=mp.Vector3(0, 0, 0), size=mp.Vector3(0, y_size, z_size))\n",
    "    # Get the Ez field data across this plane\n",
    "    ex_data = sim.get_array(vol=yz_plane, component=mp.Ex)\n",
    "    ey_data = sim.get_array(vol=yz_plane, component=mp.Ey)\n",
    "    ez_data = sim.get_array(vol=yz_plane, component=mp.Ez)\n",
    "    # Append this data to the time series list\n",
    "    ex_time_series.append(ex_data)\n",
    "    ey_time_series.append(ey_data)\n",
    "    ez_time_series.append(ez_data)"
   ]
  },
  {
   "cell_type": "markdown",
   "id": "ef32c66f-2389-41f3-a1d2-9797d2ff28d3",
   "metadata": {},
   "source": [
    "## Run the Simulation:\r\n",
    "Execute the simulation and monitor fields:\r\n"
   ]
  },
  {
   "cell_type": "code",
   "execution_count": null,
   "id": "95f1f13f-46d9-4043-b278-30bb3b04397d",
   "metadata": {},
   "outputs": [],
   "source": [
    "# Run the simulation with the recorder\n",
    "sim.run(mp.at_every(1, record_ez), until=200)  # Adjust the interval as needed\n",
    "\n",
    "# Convert the recorded data into a NumPy array\n",
    "ex_time_series_array = np.array(ex_time_series)\n",
    "ey_time_series_array = np.array(ey_time_series)\n",
    "ez_time_series_array = np.array(ez_time_series)\n",
    "\n",
    "# ez_time_series_array now contains the time series of Ez at every point in the YZ plane"
   ]
  },
  {
   "cell_type": "code",
   "execution_count": null,
   "id": "ec839006-8fdf-4a54-ab19-866796bfe88a",
   "metadata": {},
   "outputs": [],
   "source": [
    "# ez_time_series_array"
   ]
  },
  {
   "cell_type": "markdown",
   "id": "4d5aba5e-5c2e-43b9-bf17-80626cd484ec",
   "metadata": {},
   "source": [
    "## Visualize"
   ]
  },
  {
   "cell_type": "code",
   "execution_count": null,
   "id": "d2f25ee3-82ed-4b4c-9c16-2f78106ec90e",
   "metadata": {
    "scrolled": true
   },
   "outputs": [],
   "source": [
    "import numpy as np\n",
    "import matplotlib.pyplot as plt\n",
    "from matplotlib.animation import FuncAnimation\n",
    "import matplotlib\n",
    "\n",
    "\n",
    "# # Draw the outlines of shapes in map_matrix\n",
    "def draw_outlines(ax, map_matrix, y_size, z_size):\n",
    "    y_increment = y_size / map_matrix.shape[1]\n",
    "    z_increment = z_size / map_matrix.shape[0]\n",
    "    print(z_increment)\n",
    "    print(z_size)\n",
    "    print(map_matrix.shape[0])\n",
    "    bias = z_size/resolution\n",
    "    for i in range(map_matrix.shape[0]):\n",
    "        for j in range(map_matrix.shape[1]):\n",
    "            # Draw a line above the current square if there is a material change above\n",
    "            if i > 0 and map_matrix[i, j] != map_matrix[i - 1, j]:\n",
    "                y_start = -y_size/2 + j * y_increment\n",
    "                y_end = -y_size/2 + (j+1) * y_increment\n",
    "                z_pos = -z_size/2 + i * z_increment + bias\n",
    "                ax.plot([y_start, y_end], [z_pos, z_pos], 'k-', linewidth=0.5)\n",
    "\n",
    "            # Draw a line below the current square if there is a material change below\n",
    "            if i < map_matrix.shape[0] - 1 and map_matrix[i, j] != map_matrix[i + 1, j]:\n",
    "                y_start = -y_size/2 + j * y_increment\n",
    "                y_end = -y_size/2 + (j+1) * y_increment\n",
    "                z_pos = -z_size/2 + (i + 1) * z_increment + bias\n",
    "                ax.plot([y_start, y_end], [z_pos, z_pos], 'k-', linewidth=0.5)\n",
    "\n",
    "            # Draw a line to the left of the current square if there is a material change to the left\n",
    "            if j > 0 and map_matrix[i, j] != map_matrix[i, j - 1]:\n",
    "                y_pos = -y_size/2 + j * y_increment\n",
    "                z_start = -z_size/2 + i * z_increment + bias\n",
    "                z_end = -z_size/2 + (i + 1) * z_increment + bias\n",
    "                ax.plot([y_pos, y_pos], [z_start, z_end], 'k-', linewidth=0.5)\n",
    "\n",
    "            # Draw a line to the right of the current square if there is a material change to the right\n",
    "            if j < map_matrix.shape[1] - 1 and map_matrix[i, j] != map_matrix[i, j + 1]:\n",
    "                y_pos = -y_size/2 + (j + 1) * y_increment\n",
    "                z_start = -z_size/2 + i * z_increment + bias\n",
    "                z_end = -z_size/2 + (i + 1) * z_increment + bias\n",
    "                ax.plot([y_pos, y_pos], [z_start, z_end], 'k-', linewidth=0.5)\n",
    "\n",
    "def plot_dots_for_matrix(map_matrix, y_size, z_size):\n",
    "    # Calculate the increment for each cell in y and z directions\n",
    "    y_increment = y_size / map_matrix.shape[1]\n",
    "    z_increment = z_size / map_matrix.shape[0]\n",
    "\n",
    "    # Initialize the plot\n",
    "    fig, ax = plt.subplots()\n",
    "    # Draw a dot in the center of each cell\n",
    "    for i in range(map_matrix.shape[0]):\n",
    "        for j in range(map_matrix.shape[1]):\n",
    "            y_pos = -y_size / 2 + j * y_increment + y_increment / 2\n",
    "            z_pos = -z_size / 2 + i * z_increment + z_increment / 2\n",
    "            ax.plot(y_pos, z_pos, 'ro')  # 'ro' plots a red dot\n",
    "\n",
    "    # Set plot labels and title\n",
    "    ax.set_xlabel('Y dimension')\n",
    "    ax.set_ylabel('Z dimension')\n",
    "    ax.set_title('Dot in Center of Each Cell')\n",
    "\n",
    "    plt.show()\n",
    "\n",
    "# Assuming ez_time_series_array is already populated with the field data\n",
    "# and has shape [time_steps, y_resolution, z_resolution]\n",
    "\n",
    "def save_anim_fields(field_component, map_matrix, y_range, z_range):\n",
    "    \n",
    "    if field_component == \"x\":\n",
    "        use_time_series = ex_time_series_array\n",
    "    elif field_component == \"y\":\n",
    "        use_time_series = ey_time_series_array\n",
    "    elif field_component == \"z\":\n",
    "        use_time_series = ez_time_series_array\n",
    "\n",
    "    title = f'E{field_component} Field Distribution over Time'\n",
    "\n",
    "    # Initialize the plot\n",
    "    fig, ax = plt.subplots()\n",
    "    cax = ax.imshow(use_time_series[0].T, extent=[-y_size/2, y_size/2, -z_size/2, z_size/2], origin='lower', cmap='viridis')\n",
    "    # plt.plot(use_time_series[0].T)\n",
    "    plt.xlim((-y_size/2, y_size/2))\n",
    "    plt.ylim((-z_size/2, z_size/2))\n",
    "\n",
    "    fig.colorbar(cax, label=f'E{field_component} field value')\n",
    "\n",
    "    # # Overlay the shapes outline\n",
    "    # draw_outlines(ax, map_matrix, y_size, z_size)   \n",
    "\n",
    "    # Set plot labels and title\n",
    "    ax.set_xlabel('Y dimension')\n",
    "    ax.set_ylabel('Z dimension')\n",
    "    ax.set_title(title)\n",
    "    \n",
    "    # Animation function to update the plot for each frame\n",
    "    \n",
    "    def animate(frame):\n",
    "        cax.set_data(use_time_series[frame].T)\n",
    "        return cax,\n",
    "    \n",
    "    # Create the animation using FuncAnimation\n",
    "    anim = FuncAnimation(fig, animate, frames=len(use_time_series), interval=50, blit=True)\n",
    "    \n",
    "    # Save the animation as an MP4 file\n",
    "    plt.tight_layout()\n",
    "    anim.save(f'Visualizations/e{field_component}_field_animation.mp4', writer='ffmpeg', dpi=300)\n",
    "    plt.show()\n",
    "\n",
    "save_anim_fields(\"x\", map_matrix, y_range, z_range)\n",
    "# save_anim_fields(field_component=\"y\")\n",
    "# save_anim_fields(field_component=\"z\")"
   ]
  },
  {
   "cell_type": "markdown",
   "id": "7fc7e60e-5d45-4980-b4db-cbce3301ae96",
   "metadata": {},
   "source": [
    "## Trial 2D: Simple Tests of 2D Simulation"
   ]
  },
  {
   "cell_type": "code",
   "execution_count": null,
   "id": "f9122485-3ff0-4ea6-bc68-82213965606e",
   "metadata": {},
   "outputs": [],
   "source": [
    "import meep as mp\n",
    "import numpy as np\n",
    "import matplotlib.pyplot as plt\n",
    "\n",
    "# Simulation parameters\n",
    "resolution = 20  # pixels per unit length\n",
    "\n",
    "# Define the simulation cell\n",
    "cell_size = mp.Vector3(0, 10, 10)  # Small X dimension for 2D YZ simulation\n",
    "\n",
    "# Add PML layers\n",
    "pml_layers = [mp.PML(1.0)]\n",
    "\n",
    "# Define a source\n",
    "fcen = 1.0  # Center frequency\n",
    "df = 0.2    # Frequency width\n",
    "sources = [mp.Source(mp.GaussianSource(fcen, fwidth=df),\n",
    "                     component=mp.Ez,\n",
    "                     center=mp.Vector3(0, 0, 0),\n",
    "                     size=mp.Vector3(0, 10, 0))]\n",
    "\n",
    "# Simulation object\n",
    "sim = mp.Simulation(cell_size=cell_size,\n",
    "                    boundary_layers=pml_layers,\n",
    "                    sources=sources,\n",
    "                    resolution=resolution)\n",
    "\n",
    "# Function to plot the field\n",
    "def plot_fields(sim):\n",
    "    ez_data = sim.get_array(component=mp.Ez, vol=mp.Volume(center=mp.Vector3(0,0,0), size=mp.Vector3(0,10,10)))\n",
    "    plt.figure(figsize=(6, 6))\n",
    "    plt.imshow(ez_data.T, interpolation='spline36', cmap='RdBu')\n",
    "    plt.colorbar(label='Ez')\n",
    "    plt.xlabel('Y')\n",
    "    plt.ylabel('Z')\n",
    "    plt.title('Ez field distribution')\n",
    "    plt.show()\n",
    "\n",
    "# Run the simulation with the plotting function\n",
    "sim.run(mp.at_every(1, plot_fields), until=20)\n",
    "\n",
    "# Optionally, run the simulation first and then plot the final state\n",
    "sim.run(until=20)\n",
    "plot_fields(sim)\n"
   ]
  },
  {
   "cell_type": "code",
   "execution_count": null,
   "id": "5975d6dc-4d30-4df7-bb6f-134114d1b0d4",
   "metadata": {},
   "outputs": [],
   "source": [
    "import meep as mp\n",
    "import numpy as np\n",
    "import matplotlib.pyplot as plt\n",
    "\n",
    "# Simulation parameters\n",
    "resolution = 50  # pixels per unit length\n",
    "\n",
    "# Define the simulation cell\n",
    "cell_size = mp.Vector3(0, 10, 10)  # Small X dimension for 2D YZ simulation\n",
    "\n",
    "# Add PML layers\n",
    "pml_layers = [mp.PML(1.0)]\n",
    "\n",
    "# Define materials\n",
    "epsilon = 6  # Dielectric constant for the block\n",
    "dielectric_material = mp.Medium(epsilon=epsilon)\n",
    "\n",
    "# Define geometry: a dielectric block\n",
    "block_size = mp.Vector3(mp.inf, 2, 2)  # Size of the block in the YZ plane\n",
    "block_center = mp.Vector3(0, 0, 0)  # Center of the block in the YZ plane\n",
    "dielectric_block = mp.Block(material=dielectric_material,\n",
    "                            size=block_size,\n",
    "                            center=block_center)\n",
    "\n",
    "# Define a source\n",
    "fcen = 1.0  # Center frequency\n",
    "df = 0.2    # Frequency width\n",
    "sources = [mp.Source(mp.GaussianSource(fcen, fwidth=df),\n",
    "                     component=mp.Ez,\n",
    "                     center=mp.Vector3(0, 3, 0),\n",
    "                     size=mp.Vector3(0, 1, 0))]\n",
    "\n",
    "# Simulation object\n",
    "sim = mp.Simulation(cell_size=cell_size,\n",
    "                    boundary_layers=pml_layers,\n",
    "                    geometry=[dielectric_block],\n",
    "                    sources=sources,\n",
    "                    resolution=resolution)\n",
    "\n",
    "# Function to plot the field with y and z axes\n",
    "def plot_fields(sim):\n",
    "    # Get the Ez field data\n",
    "    ez_data = sim.get_array(component=mp.Ez, vol=mp.Volume(center=mp.Vector3(0,0,0), size=mp.Vector3(0,10,10)))\n",
    "    \n",
    "    # Get the epsilon data to overlay the block structure\n",
    "    eps_data = sim.get_array(component=mp.Dielectric, vol=mp.Volume(center=mp.Vector3(0,0,0), size=mp.Vector3(0,10,10)))\n",
    "    \n",
    "    # Define y and z arrays based on the cell size and resolution\n",
    "    y = np.linspace(-cell_size.y / 2, cell_size.y / 2, int(cell_size.y * resolution))\n",
    "    z = np.linspace(-cell_size.z / 2, cell_size.z / 2, int(cell_size.z * resolution))\n",
    "    \n",
    "    # Plot the Ez field distribution\n",
    "    plt.figure(figsize=(6, 6))\n",
    "    plt.imshow(ez_data.T, interpolation='spline36', cmap='RdBu', extent=[y[0], y[-1], z[0], z[-1]])\n",
    "    plt.colorbar(label='Ez')\n",
    "    \n",
    "    # Overlay the block structure using the epsilon data\n",
    "    plt.contour(y, z, eps_data.T, levels=[epsilon], colors='black', linewidths=1.5)\n",
    "    \n",
    "    plt.xlabel('Y')\n",
    "    plt.ylabel('Z')\n",
    "    plt.title('Ez field distribution with dielectric block')\n",
    "    plt.savefig(\"Visualizations/Block_gaussian_source.png\")\n",
    "    plt.show()\n",
    "\n",
    "# Run the simulation with the plotting function\n",
    "sim.run(mp.at_every(1, plot_fields), until=50)\n",
    "# Optionally, run the simulation first and then plot the final state\n",
    "sim.run(until=50)\n",
    "plot_fields(sim)\n"
   ]
  },
  {
   "cell_type": "code",
   "execution_count": null,
   "id": "2e74a65a-0b9c-48a2-a47c-57387166e871",
   "metadata": {},
   "outputs": [],
   "source": []
  },
  {
   "cell_type": "code",
   "execution_count": null,
   "id": "fbd5ebbb-7168-411d-8916-253cb4ad9b20",
   "metadata": {},
   "outputs": [],
   "source": []
  }
 ],
 "metadata": {
  "kernelspec": {
   "display_name": "Python 3 (ipykernel)",
   "language": "python",
   "name": "python3"
  },
  "language_info": {
   "codemirror_mode": {
    "name": "ipython",
    "version": 3
   },
   "file_extension": ".py",
   "mimetype": "text/x-python",
   "name": "python",
   "nbconvert_exporter": "python",
   "pygments_lexer": "ipython3",
   "version": "3.8.19"
  }
 },
 "nbformat": 4,
 "nbformat_minor": 5
}
