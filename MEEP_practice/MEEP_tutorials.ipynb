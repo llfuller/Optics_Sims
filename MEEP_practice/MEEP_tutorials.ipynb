{
 "cells": [
  {
   "cell_type": "code",
   "execution_count": 1,
   "id": "187468f4",
   "metadata": {},
   "outputs": [],
   "source": [
    "import numpy\n",
    "import scipy\n",
    "import matplotlib\n",
    "import meep as mp"
   ]
  },
  {
   "cell_type": "code",
   "execution_count": 2,
   "id": "bf29600d-8bec-4696-835a-d55b23ae3ffa",
   "metadata": {},
   "outputs": [
    {
     "name": "stdout",
     "output_type": "stream",
     "text": [
      "['/mnt/d/Optics_Sims/MEEP_practice', '/home/llfuller/miniconda3/envs/pymeep-env/lib/python38.zip', '/home/llfuller/miniconda3/envs/pymeep-env/lib/python3.8', '/home/llfuller/miniconda3/envs/pymeep-env/lib/python3.8/lib-dynload', '', '/home/llfuller/miniconda3/envs/pymeep-env/lib/python3.8/site-packages']\n"
     ]
    }
   ],
   "source": [
    "import sys\n",
    "print(sys.path)"
   ]
  },
  {
   "cell_type": "markdown",
   "id": "c6182601-793c-47b1-a651-b3c5b74c139a",
   "metadata": {},
   "source": [
    "## Define Materials:\n",
    "Define the optical properties of titanium dioxide (TiO2) and glass. MEEP uses relative permittivity (epsilon) to define material properties:"
   ]
  },
  {
   "cell_type": "code",
   "execution_count": 3,
   "id": "1615ddb0-1a4a-4978-b5a8-b59749141da5",
   "metadata": {},
   "outputs": [],
   "source": [
    "TiO2 = mp.Medium(index=2.7)  # Example index, adjust based on actual data\n",
    "glass = mp.Medium(index=1.5)"
   ]
  },
  {
   "cell_type": "markdown",
   "id": "cc68452f-9054-4e67-8f3c-fc68f63a10dd",
   "metadata": {},
   "source": [
    "## Geometry Setup:\n",
    "Define the geometry of your unit cell. Assume dimensions as needed or based on the project details:"
   ]
  },
  {
   "cell_type": "code",
   "execution_count": 13,
   "id": "3cd2309b-6e8b-4743-823f-49f4b6efb32d",
   "metadata": {},
   "outputs": [],
   "source": [
    "#  Choose dimensions that are multiple times larger than the wavelength to simulate periodicity correctly. For instance, \n",
    "# if simulating a single unit cell, you might choose sizes around a few micrometers, say 2μm.\n",
    "x_size = 2.0 # micrometers\n",
    "y_size = 2.0 # micrometers\n",
    "#  This should be enough to include the material thickness plus \n",
    "# additional space for boundary layers or source and monitor placement. Assume a total of 2μm.\n",
    "z_size = 2.0 # micrometers\n",
    "\n",
    "thickness = 1\n",
    "# Material thicknesses\n",
    "tio2_thickness = 0.1  # micrometers (100 nm)\n",
    "glass_thickness = 0.5  # micrometers (500 nm)\n",
    "\n",
    "cell_size = mp.Vector3(x_size, y_size, z_size)  # Define the cell size\n",
    "geometry = [mp.Block(material=TiO2,\n",
    "                     center=mp.Vector3(0, 0, tio2_thickness/2),\n",
    "                     size=mp.Vector3(mp.inf, mp.inf, tio2_thickness)),\n",
    "            mp.Block(material=glass,\n",
    "                     center=mp.Vector3(0, 0, -glass_thickness/2),\n",
    "                     size=mp.Vector3(mp.inf, mp.inf, glass_thickness))]\n"
   ]
  },
  {
   "cell_type": "markdown",
   "id": "eb224985-1854-4b41-9429-7fe968164d80",
   "metadata": {},
   "source": [
    "## Source Definition:\r\n",
    "Define an appropriate source, such as a plane wave"
   ]
  },
  {
   "cell_type": "code",
   "execution_count": 14,
   "id": "b346cdde-abbd-400e-86bf-9753b5aafb1c",
   "metadata": {},
   "outputs": [],
   "source": [
    "freq = 5.45*10**14 #Hz (if light lambda= 550 nm)\n",
    "sources = [mp.Source(mp.ContinuousSource(frequency=freq),\n",
    "                     component=mp.Ez,\n",
    "                     center=mp.Vector3(0,0,0),\n",
    "                     size=mp.Vector3(x_size, y_size, 0))]"
   ]
  },
  {
   "cell_type": "markdown",
   "id": "b5194393-0fe1-43bc-9ca3-0d59cb23791d",
   "metadata": {},
   "source": [
    "## Boundary Conditions:\r\n",
    "Typically, you'll use periodic boundary conditions for a unit cell:"
   ]
  },
  {
   "cell_type": "code",
   "execution_count": 17,
   "id": "1f5cd73e-8c66-4c17-b93d-4a7c65e4a494",
   "metadata": {},
   "outputs": [],
   "source": [
    "pml_layers = [mp.PML(thickness)]\n",
    "# boundary_layers = [mp.PeriodicBoundary(mp.Vector3(1,0,0), phase_shift=0),\n",
    "#                    mp.PeriodicBoundary(mp.Vector3(0,1,0), phase_shift=0)]"
   ]
  },
  {
   "cell_type": "markdown",
   "id": "538f3ccf-4e42-44e4-aca9-bef60ce14594",
   "metadata": {},
   "source": [
    "## Simulation Domain:\n",
    "Set up the simulation domain:"
   ]
  },
  {
   "cell_type": "code",
   "execution_count": 19,
   "id": "446434f5-ab2c-432e-82e6-b638f9d11d8d",
   "metadata": {},
   "outputs": [],
   "source": [
    "sim = mp.Simulation(cell_size=cell_size,\n",
    "                    geometry=geometry,\n",
    "                    resolution = 10,\n",
    "                    sources=sources)"
   ]
  },
  {
   "cell_type": "markdown",
   "id": "ef32c66f-2389-41f3-a1d2-9797d2ff28d3",
   "metadata": {},
   "source": [
    "## Run the Simulation:\r\n",
    "Execute the simulation and monitor fields:\r\n"
   ]
  },
  {
   "cell_type": "code",
   "execution_count": 20,
   "id": "95f1f13f-46d9-4043-b278-30bb3b04397d",
   "metadata": {},
   "outputs": [
    {
     "name": "stdout",
     "output_type": "stream",
     "text": [
      "-----------\n",
      "Initializing structure...\n"
     ]
    },
    {
     "ename": "TypeError",
     "evalue": "in method 'vol3d', argument 4 of type 'double'",
     "output_type": "error",
     "traceback": [
      "\u001b[0;31m---------------------------------------------------------------------------\u001b[0m",
      "\u001b[0;31mTypeError\u001b[0m                                 Traceback (most recent call last)",
      "Cell \u001b[0;32mIn[20], line 1\u001b[0m\n\u001b[0;32m----> 1\u001b[0m \u001b[43msim\u001b[49m\u001b[38;5;241;43m.\u001b[39;49m\u001b[43mrun\u001b[49m\u001b[43m(\u001b[49m\u001b[43muntil\u001b[49m\u001b[38;5;241;43m=\u001b[39;49m\u001b[38;5;241;43m200\u001b[39;49m\u001b[43m)\u001b[49m\n",
      "File \u001b[0;32m~/miniconda3/envs/pymeep-env/lib/python3.8/site-packages/meep/simulation.py:4521\u001b[0m, in \u001b[0;36mSimulation.run\u001b[0;34m(self, *step_funcs, **kwargs)\u001b[0m\n\u001b[1;32m   4518\u001b[0m until_after_sources \u001b[38;5;241m=\u001b[39m kwargs\u001b[38;5;241m.\u001b[39mpop(\u001b[38;5;124m\"\u001b[39m\u001b[38;5;124muntil_after_sources\u001b[39m\u001b[38;5;124m\"\u001b[39m, \u001b[38;5;28;01mNone\u001b[39;00m)\n\u001b[1;32m   4520\u001b[0m \u001b[38;5;28;01mif\u001b[39;00m \u001b[38;5;28mself\u001b[39m\u001b[38;5;241m.\u001b[39mfields \u001b[38;5;129;01mis\u001b[39;00m \u001b[38;5;28;01mNone\u001b[39;00m:\n\u001b[0;32m-> 4521\u001b[0m     \u001b[38;5;28;43mself\u001b[39;49m\u001b[38;5;241;43m.\u001b[39;49m\u001b[43minit_sim\u001b[49m\u001b[43m(\u001b[49m\u001b[43m)\u001b[49m\n\u001b[1;32m   4523\u001b[0m \u001b[38;5;28mself\u001b[39m\u001b[38;5;241m.\u001b[39m_evaluate_dft_objects()\n\u001b[1;32m   4524\u001b[0m \u001b[38;5;28mself\u001b[39m\u001b[38;5;241m.\u001b[39m_check_material_frequencies()\n",
      "File \u001b[0;32m~/miniconda3/envs/pymeep-env/lib/python3.8/site-packages/meep/simulation.py:2469\u001b[0m, in \u001b[0;36mSimulation.init_sim\u001b[0;34m(self)\u001b[0m\n\u001b[1;32m   2466\u001b[0m         warnings\u001b[38;5;241m.\u001b[39mwarn(eps_warning, \u001b[38;5;167;01mRuntimeWarning\u001b[39;00m)\n\u001b[1;32m   2468\u001b[0m \u001b[38;5;28;01mif\u001b[39;00m \u001b[38;5;28mself\u001b[39m\u001b[38;5;241m.\u001b[39mstructure \u001b[38;5;129;01mis\u001b[39;00m \u001b[38;5;28;01mNone\u001b[39;00m:\n\u001b[0;32m-> 2469\u001b[0m     \u001b[38;5;28;43mself\u001b[39;49m\u001b[38;5;241;43m.\u001b[39;49m\u001b[43m_init_structure\u001b[49m\u001b[43m(\u001b[49m\u001b[38;5;28;43mself\u001b[39;49m\u001b[38;5;241;43m.\u001b[39;49m\u001b[43mk_point\u001b[49m\u001b[43m)\u001b[49m\n\u001b[1;32m   2471\u001b[0m \u001b[38;5;28mself\u001b[39m\u001b[38;5;241m.\u001b[39mfields \u001b[38;5;241m=\u001b[39m mp\u001b[38;5;241m.\u001b[39mfields(\n\u001b[1;32m   2472\u001b[0m     \u001b[38;5;28mself\u001b[39m\u001b[38;5;241m.\u001b[39mstructure,\n\u001b[1;32m   2473\u001b[0m     \u001b[38;5;28mself\u001b[39m\u001b[38;5;241m.\u001b[39mm \u001b[38;5;28;01mif\u001b[39;00m \u001b[38;5;28mself\u001b[39m\u001b[38;5;241m.\u001b[39mis_cylindrical \u001b[38;5;28;01melse\u001b[39;00m \u001b[38;5;241m0\u001b[39m,\n\u001b[0;32m   (...)\u001b[0m\n\u001b[1;32m   2477\u001b[0m     \u001b[38;5;28mself\u001b[39m\u001b[38;5;241m.\u001b[39mloop_tile_base_eh,\n\u001b[1;32m   2478\u001b[0m )\n\u001b[1;32m   2480\u001b[0m \u001b[38;5;28;01mif\u001b[39;00m \u001b[38;5;28mself\u001b[39m\u001b[38;5;241m.\u001b[39mforce_all_components \u001b[38;5;129;01mand\u001b[39;00m \u001b[38;5;28mself\u001b[39m\u001b[38;5;241m.\u001b[39mdimensions \u001b[38;5;241m!=\u001b[39m \u001b[38;5;241m1\u001b[39m:\n",
      "File \u001b[0;32m~/miniconda3/envs/pymeep-env/lib/python3.8/site-packages/meep/simulation.py:2002\u001b[0m, in \u001b[0;36mSimulation._init_structure\u001b[0;34m(self, k)\u001b[0m\n\u001b[1;32m   1999\u001b[0m     \u001b[38;5;28mprint\u001b[39m(\u001b[38;5;124m\"\u001b[39m\u001b[38;5;124m-\u001b[39m\u001b[38;5;124m\"\u001b[39m \u001b[38;5;241m*\u001b[39m \u001b[38;5;241m11\u001b[39m)\n\u001b[1;32m   2000\u001b[0m     \u001b[38;5;28mprint\u001b[39m(\u001b[38;5;124m\"\u001b[39m\u001b[38;5;124mInitializing structure...\u001b[39m\u001b[38;5;124m\"\u001b[39m)\n\u001b[0;32m-> 2002\u001b[0m gv \u001b[38;5;241m=\u001b[39m \u001b[38;5;28;43mself\u001b[39;49m\u001b[38;5;241;43m.\u001b[39;49m\u001b[43m_create_grid_volume\u001b[49m\u001b[43m(\u001b[49m\u001b[43mk\u001b[49m\u001b[43m)\u001b[49m\n\u001b[1;32m   2003\u001b[0m sym \u001b[38;5;241m=\u001b[39m \u001b[38;5;28mself\u001b[39m\u001b[38;5;241m.\u001b[39m_create_symmetries(gv)\n\u001b[1;32m   2004\u001b[0m br \u001b[38;5;241m=\u001b[39m _create_boundary_region_from_boundary_layers(\u001b[38;5;28mself\u001b[39m\u001b[38;5;241m.\u001b[39mboundary_layers, gv)\n",
      "File \u001b[0;32m~/miniconda3/envs/pymeep-env/lib/python3.8/site-packages/meep/simulation.py:1673\u001b[0m, in \u001b[0;36mSimulation._create_grid_volume\u001b[0;34m(self, k)\u001b[0m\n\u001b[1;32m   1671\u001b[0m     gv \u001b[38;5;241m=\u001b[39m mp\u001b[38;5;241m.\u001b[39mvol2d(\u001b[38;5;28mself\u001b[39m\u001b[38;5;241m.\u001b[39mcell_size\u001b[38;5;241m.\u001b[39mx, \u001b[38;5;28mself\u001b[39m\u001b[38;5;241m.\u001b[39mcell_size\u001b[38;5;241m.\u001b[39my, \u001b[38;5;28mself\u001b[39m\u001b[38;5;241m.\u001b[39mresolution)\n\u001b[1;32m   1672\u001b[0m \u001b[38;5;28;01melif\u001b[39;00m dims \u001b[38;5;241m==\u001b[39m \u001b[38;5;241m3\u001b[39m:\n\u001b[0;32m-> 1673\u001b[0m     gv \u001b[38;5;241m=\u001b[39m \u001b[43mmp\u001b[49m\u001b[38;5;241;43m.\u001b[39;49m\u001b[43mvol3d\u001b[49m\u001b[43m(\u001b[49m\n\u001b[1;32m   1674\u001b[0m \u001b[43m        \u001b[49m\u001b[38;5;28;43mself\u001b[39;49m\u001b[38;5;241;43m.\u001b[39;49m\u001b[43mcell_size\u001b[49m\u001b[38;5;241;43m.\u001b[39;49m\u001b[43mx\u001b[49m\u001b[43m,\u001b[49m\u001b[43m \u001b[49m\u001b[38;5;28;43mself\u001b[39;49m\u001b[38;5;241;43m.\u001b[39;49m\u001b[43mcell_size\u001b[49m\u001b[38;5;241;43m.\u001b[39;49m\u001b[43my\u001b[49m\u001b[43m,\u001b[49m\u001b[43m \u001b[49m\u001b[38;5;28;43mself\u001b[39;49m\u001b[38;5;241;43m.\u001b[39;49m\u001b[43mcell_size\u001b[49m\u001b[38;5;241;43m.\u001b[39;49m\u001b[43mz\u001b[49m\u001b[43m,\u001b[49m\u001b[43m \u001b[49m\u001b[38;5;28;43mself\u001b[39;49m\u001b[38;5;241;43m.\u001b[39;49m\u001b[43mresolution\u001b[49m\n\u001b[1;32m   1675\u001b[0m \u001b[43m    \u001b[49m\u001b[43m)\u001b[49m\n\u001b[1;32m   1676\u001b[0m \u001b[38;5;28;01melif\u001b[39;00m dims \u001b[38;5;241m==\u001b[39m mp\u001b[38;5;241m.\u001b[39mCYLINDRICAL:\n\u001b[1;32m   1677\u001b[0m     gv \u001b[38;5;241m=\u001b[39m mp\u001b[38;5;241m.\u001b[39mvolcyl(\u001b[38;5;28mself\u001b[39m\u001b[38;5;241m.\u001b[39mcell_size\u001b[38;5;241m.\u001b[39mx, \u001b[38;5;28mself\u001b[39m\u001b[38;5;241m.\u001b[39mcell_size\u001b[38;5;241m.\u001b[39mz, \u001b[38;5;28mself\u001b[39m\u001b[38;5;241m.\u001b[39mresolution)\n",
      "File \u001b[0;32m~/miniconda3/envs/pymeep-env/lib/python3.8/site-packages/meep/__init__.py:1375\u001b[0m, in \u001b[0;36mvol3d\u001b[0;34m(xsize, ysize, zsize, a)\u001b[0m\n\u001b[1;32m   1374\u001b[0m \u001b[38;5;28;01mdef\u001b[39;00m \u001b[38;5;21mvol3d\u001b[39m(xsize, ysize, zsize, a):\n\u001b[0;32m-> 1375\u001b[0m     \u001b[38;5;28;01mreturn\u001b[39;00m \u001b[43m_meep\u001b[49m\u001b[38;5;241;43m.\u001b[39;49m\u001b[43mvol3d\u001b[49m\u001b[43m(\u001b[49m\u001b[43mxsize\u001b[49m\u001b[43m,\u001b[49m\u001b[43m \u001b[49m\u001b[43mysize\u001b[49m\u001b[43m,\u001b[49m\u001b[43m \u001b[49m\u001b[43mzsize\u001b[49m\u001b[43m,\u001b[49m\u001b[43m \u001b[49m\u001b[43ma\u001b[49m\u001b[43m)\u001b[49m\n",
      "\u001b[0;31mTypeError\u001b[0m: in method 'vol3d', argument 4 of type 'double'"
     ]
    }
   ],
   "source": [
    "sim.run(until=200)  # Adjust time as needed\n"
   ]
  },
  {
   "cell_type": "code",
   "execution_count": null,
   "id": "9322eef4-716f-42ac-b5a1-7f49ef6ffa19",
   "metadata": {},
   "outputs": [],
   "source": []
  }
 ],
 "metadata": {
  "kernelspec": {
   "display_name": "Python 3 (ipykernel)",
   "language": "python",
   "name": "python3"
  },
  "language_info": {
   "codemirror_mode": {
    "name": "ipython",
    "version": 3
   },
   "file_extension": ".py",
   "mimetype": "text/x-python",
   "name": "python",
   "nbconvert_exporter": "python",
   "pygments_lexer": "ipython3",
   "version": "3.8.19"
  }
 },
 "nbformat": 4,
 "nbformat_minor": 5
}
